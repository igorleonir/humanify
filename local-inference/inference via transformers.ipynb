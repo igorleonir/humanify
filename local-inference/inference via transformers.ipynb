{
 "cells": [
  {
   "cell_type": "code",
   "execution_count": 1,
   "id": "d4cd509b-6fa8-4693-9bdc-2811e7bf3f12",
   "metadata": {},
   "outputs": [
    {
     "name": "stderr",
     "output_type": "stream",
     "text": [
      "/Users/jesseluoto/Omat/random/humanify/.conda/lib/python3.10/site-packages/tqdm/auto.py:21: TqdmWarning: IProgress not found. Please update jupyter and ipywidgets. See https://ipywidgets.readthedocs.io/en/stable/user_install.html\n",
      "  from .autonotebook import tqdm as notebook_tqdm\n",
      "Loading checkpoint shards: 100%|████████████████████████| 2/2 [00:03<00:00,  1.68s/it]\n"
     ]
    },
    {
     "name": "stdout",
     "output_type": "stream",
     "text": [
      "Model loaded.\n"
     ]
    }
   ],
   "source": [
    "from transformers import AutoModelForCausalLM, AutoTokenizer\n",
    "import outlines.text as text\n",
    "\n",
    "#mname = \"stabilityai/stablecode-instruct-alpha-3b\"\n",
    "mname = \"meta-llama/Llama-2-7b-chat-hf\"\n",
    "#mname = \"meta-llama/Llama-2-13b-chat-hf\"\n",
    "tokenizer = AutoTokenizer.from_pretrained(mname)\n",
    "model = AutoModelForCausalLM.from_pretrained(\n",
    "  mname,\n",
    "  trust_remote_code=True,\n",
    "  torch_dtype=\"auto\",\n",
    ")\n",
    "model.to(\"mps\")\n",
    "\n",
    "print(\"Model loaded.\")"
   ]
  },
  {
   "cell_type": "code",
   "execution_count": 5,
   "id": "542070e0-cef5-4e14-a829-a1905d9fb941",
   "metadata": {},
   "outputs": [],
   "source": [
    "@text.prompt\n",
    "def prompt(system_prompt, user_message):\n",
    "    \"\"\"\n",
    "    <s>[INST] <<SYS>>\n",
    "    {{ system_prompt }}\n",
    "    <</SYS>>\n",
    "\n",
    "    {{ user_message }} [/INST]\n",
    "    Sure! Here's the code with more descriptive variable and function names:\"\"\"\n",
    "\n",
    "p = prompt(\"\"\"Task: Rename variables and functions in the given JavaScript code while maintaining its functionality.\n",
    "\n",
    "Constraints: Use descriptive names. Follow camelCase naming convention.\"\"\",\n",
    "\"\"\"Prompt:\n",
    "Given the following JavaScript code:\n",
    "function a(e,t){var n=[];var r=e.length;var i=0;for(;i<r;i+=t){if(i+t<r){n.push(e.substring(i,i+t))}else{n.push(e.substring(i,r))}}return n}\n",
    "\n",
    "Rename the variables and functions in the code to make it more readable and maintain its functionality. Use appropriate variable names and follow the camelCase naming convention.\n",
    "\"\"\")"
   ]
  },
  {
   "cell_type": "code",
   "execution_count": 6,
   "id": "5d416f10-e03c-4ba3-8622-29b97a21fdf4",
   "metadata": {},
   "outputs": [
    {
     "name": "stdout",
     "output_type": "stream",
     "text": [
      "[INST] <<SYS>>\n",
      "Task: Rename variables and functions in the given JavaScript code while maintaining its functionality.\n",
      "\n",
      "Constraints: Use descriptive names. Follow camelCase naming convention.\n",
      "<</SYS>>\n",
      "\n",
      "Prompt:\n",
      "Given the following JavaScript code:\n",
      "function a(e,t){var n=[];var r=e.length;var i=0;for(;i<r;i+=t){if(i+t<r){n.push(e.substring(i,i+t))}else{n.push(e.substring(i,r))}}return n}\n",
      "\n",
      "Rename the variables and functions in the code to make it more readable and maintain its functionality. Use appropriate variable names and follow the camelCase naming convention.\n",
      " [/INST]\n",
      "Sure! Here's the code with more descriptive variable and function names:\n",
      "function extractSubstrings(text, chunkSize\n"
     ]
    }
   ],
   "source": [
    "inputs = tokenizer(p, return_tensors=\"pt\", return_token_type_ids=False).to(\"mps\")\n",
    "tokens = model.generate(\n",
    "  **inputs,\n",
    "  max_new_tokens=10,\n",
    "  temperature=1,\n",
    "  do_sample=True,\n",
    "  pad_token_id=0,\n",
    ")\n",
    "out = tokenizer.decode(tokens[0], skip_special_tokens=True)\n",
    "print(out)"
   ]
  },
  {
   "cell_type": "code",
   "execution_count": null,
   "id": "9b52a068-a680-44af-ae22-2e7157be3dc7",
   "metadata": {},
   "outputs": [],
   "source": []
  }
 ],
 "metadata": {
  "kernelspec": {
   "display_name": "Python 3 (ipykernel)",
   "language": "python",
   "name": "python3"
  },
  "language_info": {
   "codemirror_mode": {
    "name": "ipython",
    "version": 3
   },
   "file_extension": ".py",
   "mimetype": "text/x-python",
   "name": "python",
   "nbconvert_exporter": "python",
   "pygments_lexer": "ipython3",
   "version": "3.10.12"
  }
 },
 "nbformat": 4,
 "nbformat_minor": 5
}
