{
 "cells": [
  {
   "cell_type": "code",
   "execution_count": 6,
   "id": "8cca5648-fc2f-4a5d-93aa-6906b7e5f69b",
   "metadata": {},
   "outputs": [],
   "source": [
    "import guidance\n",
    "import outlines.text as text"
   ]
  },
  {
   "cell_type": "code",
   "execution_count": 2,
   "id": "44bb42e8-2b60-4758-a631-e382d85daf64",
   "metadata": {},
   "outputs": [
    {
     "name": "stderr",
     "output_type": "stream",
     "text": [
      "/Users/jesseluoto/Omat/random/humanify/.conda/lib/python3.10/site-packages/tqdm/auto.py:21: TqdmWarning: IProgress not found. Please update jupyter and ipywidgets. See https://ipywidgets.readthedocs.io/en/stable/user_install.html\n",
      "  from .autonotebook import tqdm as notebook_tqdm\n",
      "Loading checkpoint shards: 100%|██████████| 2/2 [00:03<00:00,  1.92s/it]\n"
     ]
    }
   ],
   "source": [
    "mname = \"meta-llama/Llama-2-7b-chat-hf\"\n",
    "\n",
    "guidance.llm = guidance.llms.Transformers(mname, device=\"mps\")"
   ]
  },
  {
   "cell_type": "code",
   "execution_count": 19,
   "id": "e3f868be",
   "metadata": {},
   "outputs": [],
   "source": [
    "@text.prompt\n",
    "def prompt(system_prompt, user_message):\n",
    "    \"\"\"\n",
    "    <s>[INST] <<SYS>>\n",
    "    {{ system_prompt }}\n",
    "    <</SYS>>\n",
    "\n",
    "    {{ user_message }} [/INST]\n",
    "    Sure! Here's the code with more descriptive variable and function names:\"\"\"\n",
    "\n",
    "p = prompt(\"\"\"Task: Rename variables and functions in the given JavaScript code while maintaining its functionality.\n",
    "\n",
    "Constraints: Use descriptive names. Follow camelCase naming convention.\"\"\",\n",
    "\"\"\"Prompt:\n",
    "Given the following JavaScript code:\n",
    "function a(e,t){var n=[];var r=e.length;var i=0;for(;i<r;i+=t){if(i+t<r){n.push(e.substring(i,i+t))}else{n.push(e.substring(i,r))}}return n}\n",
    "\n",
    "Rename the variables and functions in the code to make it more readable and maintain its functionality. Use appropriate variable names and follow the camelCase naming convention.\n",
    "\"\"\")"
   ]
  },
  {
   "cell_type": "code",
   "execution_count": 21,
   "id": "753f3c8a",
   "metadata": {},
   "outputs": [
    {
     "data": {
      "text/html": [
       "<div id=\"guidance-stop-button-97f8e1af-4263-4d14-bda7-863010d8b176\" style=\"cursor: pointer; margin: 0px; display: none; float: right; padding: 3px; border-radius: 4px 4px 4px 4px; border: 0px solid rgba(127, 127, 127, 1); padding-left: 10px; padding-right: 10px; font-size: 13px; background-color: rgba(127, 127, 127, 0.25);\">Stop program</div><div id=\"guidance-content-97f8e1af-4263-4d14-bda7-863010d8b176\"><pre style='margin: 0px; padding: 0px; padding-left: 8px; margin-left: -8px; border-radius: 0px; border-left: 1px solid rgba(127, 127, 127, 0.2); white-space: pre-wrap; font-family: ColfaxAI, Arial; font-size: 15px; line-height: 23px;'>&lt;s&gt;[INST] &lt;&lt;SYS&gt;&gt;\n",
       "Task: Rename variables and functions in the given JavaScript code while maintaining its functionality.\n",
       "\n",
       "Constraints: Use descriptive names. Follow camelCase naming convention.\n",
       "&lt;&lt;/SYS&gt;&gt;\n",
       "\n",
       "Prompt:\n",
       "Given the following JavaScript code:\n",
       "function a(e,t){var n=[];var r=e.length;var i=0;for(;i&lt;r;i+=t){if(i+t&lt;r){n.push(e.substring(i,i+t))}else{n.push(e.substring(i,r))}}return n}\n",
       "\n",
       "Rename the variables and functions in the code to make it more readable and maintain its functionality. Use appropriate variable names and follow the camelCase naming convention.\n",
       " [/INST]\n",
       "Sure! Here&#x27;s the code with more descriptive variable and function names:\n",
       "function <span style='background-color: rgba(0, 165, 0, 0.25); opacity: 1.0; display: inline;' title='{{gen &quot;funcname&quot; temperature=0.4 stop_regex=&quot;[^a-zA-Z0-9]&quot;}}'>extractSubstrings</span>(<span style='background-color: rgba(0, 165, 0, 0.25); opacity: 1.0; display: inline;' title='{{gen &quot;arg1&quot; temperature=0.4 stop_regex=&quot;[^a-zA-Z0-9]&quot;}}'>text</span>, <span style='background-color: rgba(0, 165, 0, 0.25); opacity: 1.0; display: inline;' title='{{gen &quot;arg2&quot; temperature=0.4 stop_regex=&quot;[^a-zA-Z0-9]&quot;}}'>chunkSize</span>) {\n",
       "  var <span style='background-color: rgba(0, 165, 0, 0.25); opacity: 1.0; display: inline;' title='{{gen &quot;var1&quot; temperature=0.4 stop_regex=&quot;[^a-zA-Z0-9]&quot;}}'>substringArray</span> = [];\n",
       "  var <span style='background-color: rgba(0, 165, 0, 0.25); opacity: 1.0; display: inline;' title='{{gen &quot;var2&quot; temperature=0.4 stop_regex=&quot;[^a-zA-Z0-9]&quot;}}'>textLength</span> = <span style='background-color: rgba(0, 138.56128016, 250.76166089, 0.25); display: inline;' title='{{arg1}}'>text</span>.length;\n",
       "  var <span style='background-color: rgba(0, 165, 0, 0.25); opacity: 1.0; display: inline;' title='{{gen &quot;var3&quot; temperature=0.4 stop_regex=&quot;[^a-zA-Z0-9]&quot;}}'>currentIndex</span> = 0;\n",
       "  for (; <span style='background-color: rgba(0, 138.56128016, 250.76166089, 0.25); display: inline;' title='{{var3}}'>currentIndex</span> &lt; <span style='background-color: rgba(0, 138.56128016, 250.76166089, 0.25); display: inline;' title='{{var2}}'>textLength</span>; <span style='background-color: rgba(0, 138.56128016, 250.76166089, 0.25); display: inline;' title='{{var3}}'>currentIndex</span> += <span style='background-color: rgba(0, 138.56128016, 250.76166089, 0.25); display: inline;' title='{{arg2}}'>chunkSize</span>) {\n",
       "      if (<span style='background-color: rgba(0, 138.56128016, 250.76166089, 0.25); display: inline;' title='{{var3}}'>currentIndex</span> + <span style='background-color: rgba(0, 138.56128016, 250.76166089, 0.25); display: inline;' title='{{arg2}}'>chunkSize</span> &lt; <span style='background-color: rgba(0, 138.56128016, 250.76166089, 0.25); display: inline;' title='{{var2}}'>textLength</span>) {\n",
       "          <span style='background-color: rgba(0, 138.56128016, 250.76166089, 0.25); display: inline;' title='{{var1}}'>substringArray</span>.push(<span style='background-color: rgba(0, 138.56128016, 250.76166089, 0.25); display: inline;' title='{{arg1}}'>text</span>.substring(<span style='background-color: rgba(0, 138.56128016, 250.76166089, 0.25); display: inline;' title='{{var3}}'>currentIndex</span>, <span style='background-color: rgba(0, 138.56128016, 250.76166089, 0.25); display: inline;' title='{{var3}}'>currentIndex</span> + <span style='background-color: rgba(0, 138.56128016, 250.76166089, 0.25); display: inline;' title='{{arg2}}'>chunkSize</span>))\n",
       "      } else {\n",
       "          <span style='background-color: rgba(0, 138.56128016, 250.76166089, 0.25); display: inline;' title='{{var1}}'>substringArray</span>.push(<span style='background-color: rgba(0, 138.56128016, 250.76166089, 0.25); display: inline;' title='{{arg1}}'>text</span>.substring(<span style='background-color: rgba(0, 138.56128016, 250.76166089, 0.25); display: inline;' title='{{var3}}'>currentIndex</span>, <span style='background-color: rgba(0, 138.56128016, 250.76166089, 0.25); display: inline;' title='{{var2}}'>textLength</span>))\n",
       "      }\n",
       "  }\n",
       "  return <span style='background-color: rgba(0, 138.56128016, 250.76166089, 0.25); display: inline;' title='{{var1}}'>substringArray</span>\n",
       "}</pre></div>\n",
       "<script type=\"text/javascript\">(()=>{var t={296:(t,e,n)=>{var i=NaN,o=\"[object Symbol]\",r=/^\\s+|\\s+$/g,a=/^[-+]0x[0-9a-f]+$/i,s=/^0b[01]+$/i,c=/^0o[0-7]+$/i,d=parseInt,u=\"object\"==typeof n.g&&n.g&&n.g.Object===Object&&n.g,l=\"object\"==typeof self&&self&&self.Object===Object&&self,f=u||l||Function(\"return this\")(),h=Object.prototype.toString,p=Math.max,m=Math.min,g=function(){return f.Date.now()};function b(t){var e=typeof t;return!!t&&(\"object\"==e||\"function\"==e)}function y(t){if(\"number\"==typeof t)return t;if(function(t){return\"symbol\"==typeof t||function(t){return!!t&&\"object\"==typeof t}(t)&&h.call(t)==o}(t))return i;if(b(t)){var e=\"function\"==typeof t.valueOf?t.valueOf():t;t=b(e)?e+\"\":e}if(\"string\"!=typeof t)return 0===t?t:+t;t=t.replace(r,\"\");var n=s.test(t);return n||c.test(t)?d(t.slice(2),n?2:8):a.test(t)?i:+t}t.exports=function(t,e,n){var i,o,r,a,s,c,d=0,u=!1,l=!1,f=!0;if(\"function\"!=typeof t)throw new TypeError(\"Expected a function\");function h(e){var n=i,r=o;return i=o=void 0,d=e,a=t.apply(r,n)}function v(t){var n=t-c;return void 0===c||n>=e||n<0||l&&t-d>=r}function _(){var t=g();if(v(t))return w(t);s=setTimeout(_,function(t){var n=e-(t-c);return l?m(n,r-(t-d)):n}(t))}function w(t){return s=void 0,f&&i?h(t):(i=o=void 0,a)}function j(){var t=g(),n=v(t);if(i=arguments,o=this,c=t,n){if(void 0===s)return function(t){return d=t,s=setTimeout(_,e),u?h(t):a}(c);if(l)return s=setTimeout(_,e),h(c)}return void 0===s&&(s=setTimeout(_,e)),a}return e=y(e)||0,b(n)&&(u=!!n.leading,r=(l=\"maxWait\"in n)?p(y(n.maxWait)||0,e):r,f=\"trailing\"in n?!!n.trailing:f),j.cancel=function(){void 0!==s&&clearTimeout(s),d=0,i=c=o=s=void 0},j.flush=function(){return void 0===s?a:w(g())},j}},777:t=>{var e,n,i=Math.max,o=(e=function(t,e){return function(t,e,n){if(\"function\"!=typeof t)throw new TypeError(\"Expected a function\");return setTimeout((function(){t.apply(void 0,n)}),1)}(t,0,e)},n=i(void 0===n?e.length-1:n,0),function(){for(var t=arguments,o=-1,r=i(t.length-n,0),a=Array(r);++o<r;)a[o]=t[n+o];o=-1;for(var s=Array(n+1);++o<n;)s[o]=t[o];return s[n]=a,function(t,e,n){switch(n.length){case 0:return t.call(e);case 1:return t.call(e,n[0]);case 2:return t.call(e,n[0],n[1]);case 3:return t.call(e,n[0],n[1],n[2])}return t.apply(e,n)}(e,this,s)});t.exports=o}},e={};function n(i){var o=e[i];if(void 0!==o)return o.exports;var r=e[i]={exports:{}};return t[i](r,r.exports,n),r.exports}n.n=t=>{var e=t&&t.__esModule?()=>t.default:()=>t;return n.d(e,{a:e}),e},n.d=(t,e)=>{for(var i in e)n.o(e,i)&&!n.o(t,i)&&Object.defineProperty(t,i,{enumerable:!0,get:e[i]})},n.g=function(){if(\"object\"==typeof globalThis)return globalThis;try{return this||new Function(\"return this\")()}catch(t){if(\"object\"==typeof window)return window}}(),n.o=(t,e)=>Object.prototype.hasOwnProperty.call(t,e),(()=>{\"use strict\";const t=t=>{const e=new Set;do{for(const n of Reflect.ownKeys(t))e.add([t,n])}while((t=Reflect.getPrototypeOf(t))&&t!==Object.prototype);return e};function e(e,{include:n,exclude:i}={}){const o=t=>{const e=e=>\"string\"==typeof e?t===e:e.test(t);return n?n.some(e):!i||!i.some(e)};for(const[n,i]of t(e.constructor.prototype)){if(\"constructor\"===i||!o(i))continue;const t=Reflect.getOwnPropertyDescriptor(n,i);t&&\"function\"==typeof t.value&&(e[i]=e[i].bind(e))}return e}var i=n(777),o=n.n(i),r=n(296),a=n.n(r);class s{constructor(t,n){e(this),this.interfaceId=t,this.callbackMap={},this.data={},this.pendingData={},this.jcomm=new c(\"guidance_interface_target_\"+this.interfaceId,this.updateData,\"open\"),this.debouncedSendPendingData500=a()(this.sendPendingData,500),this.debouncedSendPendingData1000=a()(this.sendPendingData,1e3),n&&o()(n)}send(t,e){this.addPendingData(t,e),this.sendPendingData()}sendEvent(t){for(const e of Object.keys(t))this.addPendingData(e,t[e]);this.sendPendingData()}debouncedSendEvent500(t){for(const e of Object.keys(t))this.addPendingData(e,t[e]);this.debouncedSendPendingData500()}debouncedSend500(t,e){this.addPendingData(t,e),this.debouncedSendPendingData500()}debouncedSend1000(t,e){this.addPendingData(t,e),this.debouncedSendPendingData1000()}addPendingData(t,e){Array.isArray(t)||(t=[t]);for(const n in t)this.pendingData[t[n]]=e}updateData(t){t=JSON.parse(t.data);for(const e in t)this.data[e]=t[e];for(const e in t)e in this.callbackMap&&this.callbackMap[e](this.data[e])}subscribe(t,e){this.callbackMap[t]=e,o()((e=>this.callbackMap[t](this.data[t])))}sendPendingData(){this.jcomm.send_data(this.pendingData),this.pendingData={}}}class c{constructor(t,e,n=\"open\"){this._fire_callback=this._fire_callback.bind(this),this._register=this._register.bind(this),this.jcomm=void 0,this.callback=e,void 0!==window.Jupyter?\"register\"===n?Jupyter.notebook.kernel.comm_manager.register_target(t,this._register):(this.jcomm=Jupyter.notebook.kernel.comm_manager.new_comm(t),this.jcomm.on_msg(this._fire_callback)):void 0!==window._mgr&&(\"register\"===n?window._mgr.widgetManager.proxyKernel.registerCommTarget(t,this._register):(this.jcomm=window._mgr.widgetManager.proxyKernel.createComm(t),this.jcomm.open({},\"\"),this.jcomm.onMsg=this._fire_callback))}send_data(t){void 0!==this.jcomm?this.jcomm.send(t):console.error(\"Jupyter comm module not yet loaded! So we can't send the message.\")}_register(t,e){this.jcomm=t,this.jcomm.on_msg(this._fire_callback)}_fire_callback(t){this.callback(t.content.data)}}class d{constructor(t,n){e(this),this.id=t,this.comm=new s(t),this.comm.subscribe(\"append\",this.appendData),this.comm.subscribe(\"replace\",this.replaceData),this.comm.subscribe(\"event\",this.eventOccurred),this.element=document.getElementById(\"guidance-content-\"+t),this.stop_button=document.getElementById(\"guidance-stop-button-\"+t),this.stop_button.onclick=()=>this.comm.send(\"event\",\"stop\")}appendData(t){t&&(this.stop_button.style.display=\"inline-block\",this.element.innerHTML+=t)}replaceData(t){t&&(this.stop_button.style.display=\"inline-block\",this.element.innerHTML=t)}eventOccurred(t){\"complete\"===t&&(this.stop_button.style.display=\"none\")}}window._guidanceDisplay=function(t,e){return new d(t,e)}})()})();; window._guidanceDisplay(\"97f8e1af-4263-4d14-bda7-863010d8b176\");</script>"
      ]
     },
     "metadata": {},
     "output_type": "display_data"
    },
    {
     "name": "stdout",
     "output_type": "stream",
     "text": [
      "extractSubstrings\n"
     ]
    }
   ],
   "source": [
    "humanify = guidance(p + '''\n",
    "function {{gen \"funcname\" temperature=0.4 stop_regex=\"[^a-zA-Z0-9]\"}}({{gen \"arg1\" temperature=0.4 stop_regex=\"[^a-zA-Z0-9]\"}}, {{gen \"arg2\" temperature=0.4 stop_regex=\"[^a-zA-Z0-9]\"}}) {\n",
    "  var {{gen \"var1\" temperature=0.4 stop_regex=\"[^a-zA-Z0-9]\"}} = [];\n",
    "  var {{gen \"var2\" temperature=0.4 stop_regex=\"[^a-zA-Z0-9]\"}} = {{arg1}}.length;\n",
    "  var {{gen \"var3\" temperature=0.4 stop_regex=\"[^a-zA-Z0-9]\"}} = 0;\n",
    "  for (; {{var3}} < {{var2}}; {{var3}} += {{arg2}}) {\n",
    "      if ({{var3}} + {{arg2}} < {{var2}}) {\n",
    "          {{var1}}.push({{arg1}}.substring({{var3}}, {{var3}} + {{arg2}}))\n",
    "      } else {\n",
    "          {{var1}}.push({{arg1}}.substring({{var3}}, {{var2}}))\n",
    "      }\n",
    "  }\n",
    "  return {{var1}}\n",
    "}''')\n",
    "\n",
    "\n",
    "result = humanify()\n",
    "\n",
    "print(result['funcname'])"
   ]
  }
 ],
 "metadata": {
  "kernelspec": {
   "display_name": "Python 3 (ipykernel)",
   "language": "python",
   "name": "python3"
  },
  "language_info": {
   "codemirror_mode": {
    "name": "ipython",
    "version": 3
   },
   "file_extension": ".py",
   "mimetype": "text/x-python",
   "name": "python",
   "nbconvert_exporter": "python",
   "pygments_lexer": "ipython3",
   "version": "3.10.12"
  }
 },
 "nbformat": 4,
 "nbformat_minor": 5
}
