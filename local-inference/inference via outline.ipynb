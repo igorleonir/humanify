{
 "cells": [
  {
   "cell_type": "code",
   "execution_count": 1,
   "id": "75c76feb-4f0c-4f8a-864f-3e91819260c5",
   "metadata": {},
   "outputs": [],
   "source": [
    "from typing import List\n",
    "from enum import Enum\n",
    "from typing import Tuple\n",
    "from pydantic import BaseModel, constr\n",
    "\n",
    "import outlines.models as models\n",
    "import outlines.text.generate as generate\n",
    "import outlines.text as text"
   ]
  },
  {
   "cell_type": "code",
   "execution_count": 2,
   "id": "c42c383c-695d-46cd-8ca4-26b1be124140",
   "metadata": {},
   "outputs": [
    {
     "name": "stderr",
     "output_type": "stream",
     "text": [
      "/Users/jesseluoto/Omat/random/humanify/.conda/lib/python3.10/site-packages/tqdm/auto.py:21: TqdmWarning: IProgress not found. Please update jupyter and ipywidgets. See https://ipywidgets.readthedocs.io/en/stable/user_install.html\n",
      "  from .autonotebook import tqdm as notebook_tqdm\n",
      "Loading checkpoint shards: 100%|████████████████████████| 2/2 [00:03<00:00,  1.66s/it]\n"
     ]
    }
   ],
   "source": [
    "#mname = \"meta-llama/Llama-2-13b-chat-hf\"\n",
    "mname = \"meta-llama/Llama-2-7b-chat-hf\"\n",
    "\n",
    "model = models.transformers(mname, \"mps\")"
   ]
  },
  {
   "cell_type": "code",
   "execution_count": 25,
   "id": "2156e888-8057-4f8f-b1ba-11cc252aeee3",
   "metadata": {},
   "outputs": [],
   "source": [
    "@text.prompt\n",
    "def prompt(system_prompt, user_message):\n",
    "    \"\"\"\n",
    "    <s>[INST] <<SYS>>\n",
    "    {{ system_prompt }}\n",
    "    <</SYS>>\n",
    "\n",
    "    {{ user_message }} [/INST]\n",
    "    Sure! Here's the code with more descriptive variable and function names:\"\"\"\n",
    "\n",
    "p = prompt(\"\"\"Task: Rename variables and functions in the given JavaScript code while maintaining its functionality.\n",
    "\n",
    "Constraints: Use descriptive names. Follow camelCase naming convention.\"\"\",\n",
    "\"\"\"Prompt:\n",
    "Given the following JavaScript code:\n",
    "function a(e,t){var n=[];var r=e.length;var i=0;for(;i<r;i+=t){if(i+t<r){n.push(e.substring(i,i+t))}else{n.push(e.substring(i,r))}}return n}\n",
    "\n",
    "Rename the variables and functions in the code to make it more readable and maintain its functionality. Use appropriate variable names and follow the camelCase naming convention.\n",
    "\"\"\")"
   ]
  },
  {
   "cell_type": "code",
   "execution_count": 26,
   "id": "15cb58a8-ac39-432d-9d7c-20028d703e32",
   "metadata": {},
   "outputs": [
    {
     "name": "stdout",
     "output_type": "stream",
     "text": [
      "\n",
      "\n",
      "function   substringExtract\n"
     ]
    }
   ],
   "source": [
    "#out = generate.continuation(model, max_tokens=20)(p)\n",
    "out = generate.regex(model, r\"\\n\\nfunction [a-z][a-zA-Z]{1,15}\", max_tokens=20)(p)\n",
    "\n",
    "print(out)"
   ]
  },
  {
   "cell_type": "code",
   "execution_count": null,
   "id": "f1e9be53-3eab-41c0-8669-2c4a55a45010",
   "metadata": {},
   "outputs": [],
   "source": []
  }
 ],
 "metadata": {
  "kernelspec": {
   "display_name": "Python 3 (ipykernel)",
   "language": "python",
   "name": "python3"
  },
  "language_info": {
   "codemirror_mode": {
    "name": "ipython",
    "version": 3
   },
   "file_extension": ".py",
   "mimetype": "text/x-python",
   "name": "python",
   "nbconvert_exporter": "python",
   "pygments_lexer": "ipython3",
   "version": "3.10.12"
  }
 },
 "nbformat": 4,
 "nbformat_minor": 5
}
